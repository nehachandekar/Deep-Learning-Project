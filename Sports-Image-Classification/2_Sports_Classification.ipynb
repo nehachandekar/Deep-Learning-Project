{
  "cells": [
    {
      "cell_type": "code",
      "execution_count": 1,
      "metadata": {
        "id": "4cc58324"
      },
      "outputs": [],
      "source": [
        "import os\n",
        "import tensorflow as tf\n",
        "from tensorflow import keras\n",
        "from keras.layers import Dense,Flatten\n",
        "from keras.models import Sequential\n",
        "from keras.applications import EfficientNetB0"
      ],
      "id": "4cc58324"
    },
    {
      "cell_type": "code",
      "execution_count": 2,
      "metadata": {
        "colab": {
          "base_uri": "https://localhost:8080/"
        },
        "id": "j6TYAO-y2yU5",
        "outputId": "79ee8218-56e1-4c58-ecc0-ee42014797fa"
      },
      "outputs": [
        {
          "output_type": "stream",
          "name": "stdout",
          "text": [
            "Mounted at /content/drive\n"
          ]
        }
      ],
      "source": [
        "from google.colab import drive\n",
        "drive.mount('/content/drive')"
      ],
      "id": "j6TYAO-y2yU5"
    },
    {
      "cell_type": "code",
      "execution_count": 3,
      "metadata": {
        "id": "c789383f"
      },
      "outputs": [],
      "source": [
        "train_dir='/content/drive/MyDrive/MY_PROJECT/DL Project/sports-classification/train'\n",
        "validation_dir='/content/drive/MyDrive/MY_PROJECT/DL Project/sports-classification/valid'\n",
        "test_dir='/content/drive/MyDrive/MY_PROJECT/DL Project/sports-classification/test'"
      ],
      "id": "c789383f"
    },
    {
      "cell_type": "code",
      "execution_count": 4,
      "metadata": {
        "colab": {
          "base_uri": "https://localhost:8080/"
        },
        "id": "66c11aad",
        "outputId": "aebbf8b3-3f3d-4718-88a7-791de16a5bba"
      },
      "outputs": [
        {
          "output_type": "stream",
          "name": "stdout",
          "text": [
            "Found 13492 files belonging to 100 classes.\n",
            "Found 500 files belonging to 100 classes.\n",
            "Found 500 files belonging to 100 classes.\n"
          ]
        }
      ],
      "source": [
        "train_ds=keras.utils.image_dataset_from_directory(\n",
        "    directory=train_dir,\n",
        "    image_size=(256,256),\n",
        "    labels='inferred',\n",
        "    label_mode='int',\n",
        "    batch_size=32\n",
        ")\n",
        "test_ds=keras.utils.image_dataset_from_directory(\n",
        "    directory=test_dir,\n",
        "    image_size=(256,256),\n",
        "    labels='inferred',\n",
        "    label_mode='int',\n",
        "    batch_size=32\n",
        ")\n",
        "valid_ds=keras.utils.image_dataset_from_directory(\n",
        "    directory=validation_dir,\n",
        "    image_size=(256,256),\n",
        "    labels='inferred',\n",
        "    label_mode='int',\n",
        "    batch_size=32\n",
        ")"
      ],
      "id": "66c11aad"
    },
    {
      "cell_type": "code",
      "execution_count": 5,
      "metadata": {
        "colab": {
          "base_uri": "https://localhost:8080/"
        },
        "id": "65380a6a",
        "outputId": "36f111dd-f4ab-4d80-cbbd-17045bcc4720"
      },
      "outputs": [
        {
          "output_type": "stream",
          "name": "stdout",
          "text": [
            "Downloading data from https://storage.googleapis.com/keras-applications/efficientnetb0_notop.h5\n",
            "16705208/16705208 [==============================] - 0s 0us/step\n"
          ]
        }
      ],
      "source": [
        "base_model=EfficientNetB0(include_top=False,input_shape=(256,256,3),weights='imagenet')"
      ],
      "id": "65380a6a"
    },
    {
      "cell_type": "code",
      "execution_count": 6,
      "metadata": {
        "id": "6f35ae37"
      },
      "outputs": [],
      "source": [
        "for layer in base_model.layers:\n",
        "  layer.trainable=False"
      ],
      "id": "6f35ae37"
    },
    {
      "cell_type": "code",
      "execution_count": 7,
      "metadata": {
        "id": "347afd8c"
      },
      "outputs": [],
      "source": [
        "model=Sequential()\n",
        "\n",
        "model.add(base_model)\n",
        "model.add(Flatten())\n",
        "\n",
        "model.add(Dense(512,activation='relu'))\n",
        "model.add(keras.layers.BatchNormalization(momentum=0.99,epsilon=0.001))\n",
        "model.add(keras.layers.Dropout(0.2))\n",
        "model.add(Dense(256,activation='relu'))\n",
        "model.add(keras.layers.BatchNormalization(momentum=0.99,epsilon=0.001))\n",
        "model.add(keras.layers.Dropout(0.1))\n",
        "model.add(Dense(100,activation='softmax'))"
      ],
      "id": "347afd8c"
    },
    {
      "cell_type": "code",
      "execution_count": 8,
      "metadata": {
        "id": "7649ea30"
      },
      "outputs": [],
      "source": [
        "model.compile(loss='sparse_categorical_crossentropy',optimizer=tf.keras.optimizers.RMSprop(learning_rate=2e-4),metrics=['accuracy'])"
      ],
      "id": "7649ea30"
    },
    {
      "cell_type": "code",
      "execution_count": 9,
      "metadata": {
        "colab": {
          "base_uri": "https://localhost:8080/"
        },
        "id": "912104d3",
        "outputId": "35436467-8dd3-4aec-959d-0b406ec8c646"
      },
      "outputs": [
        {
          "output_type": "stream",
          "name": "stdout",
          "text": [
            "Epoch 1/20\n",
            "422/422 [==============================] - 2547s 6s/step - loss: 1.1374 - accuracy: 0.7491 - val_loss: 0.2087 - val_accuracy: 0.9440\n",
            "Epoch 2/20\n",
            "422/422 [==============================] - 57s 133ms/step - loss: 0.1429 - accuracy: 0.9800 - val_loss: 0.1404 - val_accuracy: 0.9660\n",
            "Epoch 3/20\n",
            "422/422 [==============================] - 57s 133ms/step - loss: 0.0283 - accuracy: 0.9984 - val_loss: 0.0969 - val_accuracy: 0.9740\n",
            "Epoch 4/20\n",
            "422/422 [==============================] - 56s 130ms/step - loss: 0.0117 - accuracy: 0.9993 - val_loss: 0.0949 - val_accuracy: 0.9700\n",
            "Epoch 5/20\n",
            "422/422 [==============================] - 55s 129ms/step - loss: 0.0057 - accuracy: 0.9995 - val_loss: 0.0821 - val_accuracy: 0.9740\n",
            "Epoch 6/20\n",
            "422/422 [==============================] - 54s 126ms/step - loss: 0.0041 - accuracy: 0.9993 - val_loss: 0.0839 - val_accuracy: 0.9720\n",
            "Epoch 7/20\n",
            "422/422 [==============================] - 55s 129ms/step - loss: 0.0030 - accuracy: 0.9996 - val_loss: 0.0754 - val_accuracy: 0.9760\n",
            "Epoch 8/20\n",
            "422/422 [==============================] - 53s 125ms/step - loss: 0.0021 - accuracy: 0.9998 - val_loss: 0.0692 - val_accuracy: 0.9760\n",
            "Epoch 9/20\n",
            "422/422 [==============================] - 55s 128ms/step - loss: 0.0015 - accuracy: 0.9999 - val_loss: 0.0662 - val_accuracy: 0.9740\n",
            "Epoch 10/20\n",
            "422/422 [==============================] - 62s 144ms/step - loss: 0.0018 - accuracy: 0.9997 - val_loss: 0.0718 - val_accuracy: 0.9720\n",
            "Epoch 11/20\n",
            "422/422 [==============================] - 55s 128ms/step - loss: 0.0019 - accuracy: 0.9996 - val_loss: 0.0801 - val_accuracy: 0.9760\n",
            "Epoch 12/20\n",
            "422/422 [==============================] - 55s 129ms/step - loss: 0.0012 - accuracy: 0.9999 - val_loss: 0.0818 - val_accuracy: 0.9680\n",
            "Epoch 13/20\n",
            "422/422 [==============================] - 55s 129ms/step - loss: 0.0015 - accuracy: 0.9996 - val_loss: 0.0803 - val_accuracy: 0.9720\n",
            "Epoch 14/20\n",
            "422/422 [==============================] - 58s 134ms/step - loss: 7.7233e-04 - accuracy: 0.9999 - val_loss: 0.0734 - val_accuracy: 0.9720\n",
            "Epoch 15/20\n",
            "422/422 [==============================] - 61s 142ms/step - loss: 8.6219e-04 - accuracy: 0.9999 - val_loss: 0.0779 - val_accuracy: 0.9720\n",
            "Epoch 16/20\n",
            "422/422 [==============================] - 55s 129ms/step - loss: 5.0016e-04 - accuracy: 1.0000 - val_loss: 0.0795 - val_accuracy: 0.9740\n",
            "Epoch 17/20\n",
            "422/422 [==============================] - 59s 138ms/step - loss: 4.8827e-04 - accuracy: 0.9999 - val_loss: 0.0812 - val_accuracy: 0.9720\n",
            "Epoch 18/20\n",
            "422/422 [==============================] - 59s 137ms/step - loss: 7.7631e-04 - accuracy: 0.9999 - val_loss: 0.0904 - val_accuracy: 0.9640\n",
            "Epoch 19/20\n",
            "422/422 [==============================] - 58s 136ms/step - loss: 5.0674e-04 - accuracy: 0.9999 - val_loss: 0.0852 - val_accuracy: 0.9700\n",
            "Epoch 20/20\n",
            "422/422 [==============================] - 57s 132ms/step - loss: 3.4564e-04 - accuracy: 1.0000 - val_loss: 0.0787 - val_accuracy: 0.9700\n"
          ]
        }
      ],
      "source": [
        "history=model.fit(train_ds,validation_data=test_ds,epochs=20)"
      ],
      "id": "912104d3"
    },
    {
      "cell_type": "code",
      "execution_count": 10,
      "metadata": {
        "id": "4d7bb24d",
        "colab": {
          "base_uri": "https://localhost:8080/",
          "height": 430
        },
        "outputId": "c3c50d94-15e9-4b36-fa17-a29856e5da95"
      },
      "outputs": [
        {
          "output_type": "display_data",
          "data": {
            "text/plain": [
              "<Figure size 640x480 with 1 Axes>"
            ],
            "image/png": "[encoded data removed]"
          },
          "metadata": {}
        }
      ],
      "source": [
        "import matplotlib.pyplot as plt\n",
        "plt.plot(history.history['loss'],color='red',label='train')\n",
        "plt.plot(history.history['val_loss'],color='blue',label='test')\n",
        "plt.legend()\n",
        "plt.show()"
      ],
      "id": "4d7bb24d"
    },
    {
      "cell_type": "code",
      "execution_count": 11,
      "metadata": {
        "id": "c411ea83",
        "colab": {
          "base_uri": "https://localhost:8080/",
          "height": 430
        },
        "outputId": "e211e75e-ba87-4d05-f791-304f5f499849"
      },
      "outputs": [
        {
          "output_type": "display_data",
          "data": {
            "text/plain": [
              "<Figure size 640x480 with 1 Axes>"
            ],
            "image/png": "[encoded data removed]"
          },
          "metadata": {}
        }
      ],
      "source": [
        "plt.plot(history.history['accuracy'],color='red',label='train')\n",
        "plt.plot(history.history['val_accuracy'],color='blue',label='test')\n",
        "plt.legend()\n",
        "plt.show()"
      ],
      "id": "c411ea83"
    },
    {
      "cell_type": "code",
      "execution_count": 11,
      "metadata": {
        "id": "b36098e8"
      },
      "outputs": [],
      "source": [],
      "id": "b36098e8"
    }
  ],
  "metadata": {
    "accelerator": "GPU",
    "colab": {
      "gpuType": "T4",
      "provenance": []
    },
    "kaggle": {
      "accelerator": "nvidiaTeslaT4",
      "dataSources": [
        {
          "datasetId": 1209061,
          "sourceId": 5595172,
          "sourceType": "datasetVersion"
        }
      ],
      "dockerImageVersionId": 30648,
      "isGpuEnabled": true,
      "isInternetEnabled": true,
      "language": "python",
      "sourceType": "notebook"
    },
    "kernelspec": {
      "display_name": "Python 3",
      "name": "python3"
    },
    "language_info": {
      "codemirror_mode": {
        "name": "ipython",
        "version": 3
      },
      "file_extension": ".py",
      "mimetype": "text/x-python",
      "name": "python",
      "nbconvert_exporter": "python",
      "pygments_lexer": "ipython3",
      "version": "3.10.13"
    },
    "papermill": {
      "default_parameters": {},
      "duration": 789.894957,
      "end_time": "2024-02-02T18:02:57.500264",
      "environment_variables": {},
      "exception": null,
      "input_path": "__notebook__.ipynb",
      "output_path": "__notebook__.ipynb",
      "parameters": {},
      "start_time": "2024-02-02T17:49:47.605307",
      "version": "2.5.0"
    }
  },
  "nbformat": 4,
  "nbformat_minor": 5
}